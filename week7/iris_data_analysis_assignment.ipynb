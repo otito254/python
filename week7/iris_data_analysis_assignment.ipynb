
{
 "cells": [
  {
   "cell_type": "markdown",
   "metadata": {},
   "source": [
    "# Data Analysis Assignment: Pandas and Matplotlib\n",
    "**Analyzing the Iris Dataset**\n\n",
    "This notebook demonstrates comprehensive data analysis using pandas for data manipulation and matplotlib/seaborn for visualization.\n\n",
    "## Assignment Overview\n",
    "- **Objective**: Load, analyze, and visualize the Iris dataset\n",
    "- **Tools**: pandas, matplotlib, seaborn\n",
    "- **Dataset**: Iris flower measurements dataset"
   ]
  },
  {
   "cell_type": "code",
   "execution_count": null,
   "metadata": {},
   "outputs": [],
   "source": [
    "# Import necessary libraries\n",
    "import pandas as pd\n",
    "import matplotlib.pyplot as plt\n",
    "import seaborn as sns\n",
    "import numpy as np\n",
    "from sklearn.datasets import load_iris\n",
    "import warnings\n",
    "warnings.filterwarnings('ignore')\n\n",
    "# Set plotting style\n",
    "plt.style.use('seaborn-v0_8')\n",
    "sns.set_palette('husl')\n",
    "plt.rcParams['figure.figsize'] = (10, 6)\n\n",
    "print('📊 Libraries imported successfully!')"
   ]
  },
  {
   "cell_type": "markdown",
   "metadata": {},
   "source": [
    "## Task 1: Load and Explore the Dataset\n\n",
    "We'll use the famous Iris dataset, which contains measurements of iris flowers from three different species."
   ]
  },
  {
   "cell_type": "code",
   "execution_count": null,
   "metadata": {},
   "outputs": [],
   "source": [
    "# Load the Iris dataset\n",
    "try:\n",
    "    iris_sklearn = load_iris()\n",
    "    iris_df = pd.DataFrame(data=iris_sklearn.data, columns=iris_sklearn.feature_names)\n",
    "    iris_df['species'] = pd.Categorical.from_codes(iris_sklearn.target, iris_sklearn.target_names)\n",
    "    print('✅ Dataset loaded successfully!')\n",
    "    print(f'Dataset shape: {iris_df.shape}')\n",
    "except Exception as e:\n",
    "    print(f'❌ Error loading dataset: {e}')"
   ]
  },
  {
   "cell_type": "code",
   "execution_count": null,
   "metadata": {},
   "outputs": [],
   "source": [
    "# Display first few rows\n",
    "print('First 10 rows of the dataset:')\n",
    "iris_df.head(10)"
   ]
  },
  {
   "cell_type": "code",
   "execution_count": null,
   "metadata": {},
   "outputs": [],
   "source": [
    "# Explore dataset structure\n",
    "print('Dataset Information:')\n",
    "print(iris_df.info())\n",
    "print('\nDataset shape:', iris_df.shape)\n",
    "print('Column names:', list(iris_df.columns))"
   ]
  },
  {
   "cell_type": "code",
   "execution_count": null,
   "metadata": {},
   "outputs": [],
   "source": [
    "# Check for missing values\n",
    "print('Missing Values Check:')\n",
    "missing_values = iris_df.isnull().sum()\n",
    "print(missing_values)\n",
    "print(f'\nTotal missing values: {missing_values.sum()}')\n\n",
    "if missing_values.sum() == 0:\n",
    "    print('✅ No missing values found - dataset is clean!')\n",
    "else:\n",
    "    print('⚠️ Missing values detected - cleaning required')"
   ]
  },
  {
   "cell_type": "markdown",
   "metadata": {},
   "source": [
    "## Task 2: Basic Data Analysis\n\n",
    "Let's compute basic statistics and perform groupby operations to understand the data better."
   ]
  },
  {
   "cell_type": "code",
   "execution_count": null,
   "metadata": {},
   "outputs": [],
   "source": [
    "# Compute basic statistics\n",
    "print('Basic Statistics of Numerical Columns:')\n",
    "basic_stats = iris_df.describe()\n",
    "basic_stats"
   ]
  },
  {
   "cell_type": "code",
   "execution_count": null,
   "metadata": {},
   "outputs": [],
   "source": [
    "# Group analysis by species\n",
    "print('Mean values by species:')\n",
    "species_means = iris_df.groupby('species').mean()\n",
    "species_means"
   ]
  },
  {
   "cell_type": "code",
   "execution_count": null,
   "metadata": {},
   "outputs": [],
   "source": [
    "# Count by species\n",
    "print('Sample count by species:')\n",
    "species_counts = iris_df.groupby('species').size()\n",
    "print(species_counts)\n\n",
    "# More detailed statistics\n",
    "print('\nDetailed statistics by species:')\n",
    "species_detailed = iris_df.groupby('species').agg({\n",
    "    'sepal length (cm)': ['mean', 'std', 'min', 'max'],\n",
    "    'petal length (cm)': ['mean', 'std', 'min', 'max']\n",
    "})\n",
    "species_detailed"
   ]
  },
  {
   "cell_type": "markdown",
   "metadata": {},
   "source": [
    "### Key Findings from Analysis\n\n",
    "1. **Dataset Quality**: 150 samples with 4 numerical features, no missing values\n",
    "2. **Species Distribution**: Equal distribution with 50 samples per species\n",
    "3. **Feature Variation**: Petal measurements show more variation than sepal measurements\n",
    "4. **Species Differences**: Clear distinctions between species, especially in petal dimensions\n",
    "5. **Setosa Distinctiveness**: Setosa species clearly separable from the other two"
   ]
  },
  {
   "cell_type": "markdown",
   "metadata": {},
   "source": [
    "## Task 3: Data Visualization\n\n",
    "Creating four different types of visualizations to understand the data patterns."
   ]
  },
  {
   "cell_type": "code",
   "execution_count": null,
   "metadata": {},
   "outputs": [],
   "source": [
    "# 1. Line Chart - Sepal length trends across samples\n",
    "plt.figure(figsize=(12, 6))\n",
    "\n",
    "for species in iris_df['species'].unique():\n",
    "    species_data = iris_df[iris_df['species'] == species]\n",
    "    plt.plot(species_data.index, species_data['sepal length (cm)'], \n",
    "             marker='o', markersize=4, linewidth=2, label=species.title(), alpha=0.8)\n",
    "\n",
    "plt.title('Sepal Length Trends Across Sample Index by Species', fontsize=16, fontweight='bold')\n",
    "plt.xlabel('Sample Index', fontsize=12)\n",
    "plt.ylabel('Sepal Length (cm)', fontsize=12)\n",
    "plt.legend(title='Species', fontsize=10)\n",
    "plt.grid(True, alpha=0.3)\n",
    "plt.tight_layout()\n",
    "plt.show()\n",
    "\n",
    "print('📈 Line chart shows how sepal length varies across the dataset ordering')"
   ]
  },
  {
   "cell_type": "code",
   "execution_count": null,
   "metadata": {},
   "outputs": [],
   "source": [
    "# 2. Bar Chart - Mean measurements comparison\n",
    "fig, axes = plt.subplots(2, 2, figsize=(15, 10))\n",
    "features = ['sepal length (cm)', 'sepal width (cm)', 'petal length (cm)', 'petal width (cm)']\n",
    "\n",
    "for i, feature in enumerate(features):\n",
    "    ax = axes[i//2, i%2]\n",
    "    means = iris_df.groupby('species')[feature].mean()\n",
    "    bars = means.plot(kind='bar', ax=ax, color=['#FF6B6B', '#4ECDC4', '#45B7D1'], alpha=0.8)\n",
    "    \n",
    "    ax.set_title(f'Mean {feature.title()} by Species', fontweight='bold')\n",
    "    ax.set_ylabel(f'{feature.title()}')\n",
    "    ax.set_xlabel('Species')\n",
    "    ax.tick_params(axis='x', rotation=45)\n",
    "    ax.grid(True, alpha=0.3)\n",
    "    \n",
    "    # Add value labels on bars\n",
    "    for bar in bars.patches:\n",
    "        height = bar.get_height()\n",
    "        ax.text(bar.get_x() + bar.get_width()/2., height + 0.05,\n",
    "                f'{height:.2f}', ha='center', va='bottom', fontweight='bold')\n",
    "\n",
    "plt.tight_layout()\n",
    "plt.show()\n",
    "\n",
    "print('📊 Bar charts reveal significant differences in mean measurements between species')"
   ]
  },
  {
   "cell_type": "code",
   "execution_count": null,
   "metadata": {},
   "outputs": [],
   "source": [
    "# 3. Histogram - Distribution of petal length\n",
    "plt.figure(figsize=(12, 8))\n",
    "\n",
    "# Overall histogram\n",
    "plt.subplot(2, 2, (1, 2))\n",
    "plt.hist(iris_df['petal length (cm)'], bins=20, alpha=0.7, color='skyblue', edgecolor='black')\n",
    "plt.title('Overall Distribution of Petal Length', fontweight='bold', fontsize=14)\n",
    "plt.xlabel('Petal Length (cm)')\n",
    "plt.ylabel('Frequency')\n",
    "plt.grid(True, alpha=0.3)\n",
    "\n",
    "# Species-specific histograms\n",
    "colors = ['#FF6B6B', '#4ECDC4', '#45B7D1']\n",
    "species_list = iris_df['species'].unique()\n",
    "\n",
    "for i, (species, color) in enumerate(zip(species_list, colors)):\n",
    "    plt.subplot(2, 3, i+4)\n",
    "    species_data = iris_df[iris_df['species'] == species]['petal length (cm)']\n",
    "    plt.hist(species_data, bins=10, alpha=0.8, color=color, edgecolor='black')\n",
    "    plt.title(f'{species.title()}', fontweight='bold')\n",
    "    plt.xlabel('Petal Length (cm)')\n",
    "    plt.ylabel('Frequency')\n",
    "    plt.grid(True, alpha=0.3)\n",
    "\n",
    "plt.tight_layout()\n",
    "plt.show()\n",
    "\n",
    "print('📈 Histograms show clear bimodal distribution indicating distinct species groups')"
   ]
  },
  {
   "cell_type": "code",
   "execution_count": null,
   "metadata": {},
   "outputs": [],
   "source": [
    "# 4. Scatter Plot - Sepal Length vs Petal Length relationship\n",
    "plt.figure(figsize=(12, 8))\n",
    "\n",
    "colors = ['#FF6B6B', '#4ECDC4', '#45B7D1']\n",
    "species_list = iris_df['species'].unique()\n",
    "\n",
    "for species, color in zip(species_list, colors):\n",
    "    species_data = iris_df[iris_df['species'] == species]\n",
    "    plt.scatter(species_data['sepal length (cm)'], species_data['petal length (cm)'],\n",
    "                c=color, label=species.title(), alpha=0.7, s=60, edgecolors='black', linewidth=0.5)\n",
    "\n",
    "plt.title('Sepal Length vs Petal Length by Species', fontweight='bold', fontsize=16)\n",
    "plt.xlabel('Sepal Length (cm)', fontsize=12)\n",
    "plt.ylabel('Petal Length (cm)', fontsize=12)\n",
    "plt.legend(title='Species', fontsize=10)\n",
    "plt.grid(True, alpha=0.3)\n",
    "\n",
    "# Add correlation coefficient\n",
    "correlation = iris_df['sepal length (cm)'].corr(iris_df['petal length (cm)'])\n",
    "plt.text(0.05, 0.95, f'Overall Correlation: {correlation:.3f}', \n",
    "         transform=plt.gca().transAxes, fontsize=12, \n",
    "         bbox=dict(boxstyle='round', facecolor='wheat', alpha=0.8))\n",
    "\n",
    "plt.tight_layout()\n",
    "plt.show()\n",
    "\n",
    "print('🔍 Scatter plot reveals strong positive correlation and clear species clustering')"
   ]
  },
  {
   "cell_type": "markdown",
   "metadata": {},
   "source": [
    "## Additional Analysis: Correlation Matrix and Pair Plot"
   ]
  },
  {
   "cell_type": "code",
   "execution_count": null,
   "metadata": {},
   "outputs": [],
   "source": [
    "# Correlation matrix heatmap\n",
    "plt.figure(figsize=(10, 8))\n",
    "correlation_matrix = iris_df.select_dtypes(include=[np.number]).corr()\n",
    "sns.heatmap(correlation_matrix, annot=True, cmap='RdYlBu_r', center=0,\n",
    "            square=True, linewidths=0.5, fmt='.3f')\n",
    "plt.title('Correlation Matrix of Iris Features', fontweight='bold', fontsize=16)\n",
    "plt.tight_layout()\n",
    "plt.show()\n",
    "\n",
    "print('🌡️ Correlation matrix reveals strong relationships between petal measurements')"
   ]
  },
  {
   "cell_type": "code",
   "execution_count": null,
   "metadata": {},
   "outputs": [],
   "source": [
    "# Pair plot for comprehensive view\n",
    "plt.figure(figsize=(12, 10))\n",
    "pair_plot = sns.pairplot(iris_df, hue='species', markers=['o', 's', '^'], \n",
    "                        diag_kind='hist', palette='husl')\n",
    "pair_plot.fig.suptitle('Pairwise Relationships in Iris Dataset', \n",
    "                       fontweight='bold', fontsize=16, y=1.02)\n",
    "plt.show()\n",
    "\n",
    "print('🎯 Pair plot provides comprehensive view of all feature relationships')"
   ]
  },
  {
   "cell_type": "markdown",
   "metadata": {},
   "source": [
    "## Summary and Conclusions\n\n",
    "### Key Insights Discovered:\n\n",
    "1. **Data Quality**: The Iris dataset is exceptionally clean with no missing values and balanced classes\n\n",
    "2. **Species Separation**: \n",
    "   - Setosa is clearly separable from the other species\n",
    "   - Versicolor and Virginica show some overlap but distinct patterns\n",
    "   - Petal measurements are most discriminative\n\n",
    "3. **Feature Relationships**:\n",
    "   - Strong positive correlation between petal length and petal width (0.963)\n",
    "   - Moderate correlation between sepal and petal measurements\n",
    "   - Sepal width shows weaker correlations with other features\n\n",
    "4. **Distribution Patterns**:\n",
    "   - Bimodal distribution in petal measurements indicates natural clustering\n",
    "   - Normal distributions within each species\n\n",
    "5. **Classification Potential**: The clear separation suggests high classification accuracy is achievable\n\n",
    "### Technical Skills Demonstrated:\n",
    "- ✅ Pandas data loading and exploration\n",
    "- ✅ Missing value detection and handling\n",
    "- ✅ Groupby operations and aggregations\n",
    "- ✅ Statistical analysis with describe()\n",
    "- ✅ Multiple visualization techniques\n",
    "- ✅ Plot customization and styling\n",
    "- ✅ Error handling and data validation"
   ]
  }
 ],
 "metadata": {
  "kernelspec": {
   "display_name": "Python 3",
   "language": "python",
   "name": "python3"
  },
  "language_info": {
   "codemirror_mode": {
    "name": "ipython",
    "version": 3
   },
   "file_extension": ".py",
   "mimetype": "text/x-python",
   "name": "python",
   "nbconvert_exporter": "python",
   "pygments_lexer": "ipython3",
   "version": "3.8.5"
  }
 },
 "nbformat": 4,
 "nbformat_minor": 4
}
